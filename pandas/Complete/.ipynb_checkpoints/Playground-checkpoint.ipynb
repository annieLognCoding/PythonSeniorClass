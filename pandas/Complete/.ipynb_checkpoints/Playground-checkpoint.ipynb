{
 "cells": [
  {
   "cell_type": "code",
   "execution_count": 3,
   "id": "5561d737-98cb-4cf2-a90a-4356f10c7eb4",
   "metadata": {
    "tags": []
   },
   "outputs": [],
   "source": [
    "import pandas as pd"
   ]
  },
  {
   "cell_type": "code",
   "execution_count": 1,
   "id": "918d41b0-2f56-4ea1-9f53-0aabc46e791c",
   "metadata": {},
   "outputs": [],
   "source": [
    "#python code: write valid python code and execute"
   ]
  },
  {
   "cell_type": "raw",
   "id": "206ab36c-f899-483a-b299-38f7f737e66b",
   "metadata": {},
   "source": [
    "Raw means raw text"
   ]
  },
  {
   "cell_type": "markdown",
   "id": "5f949e4e-9183-407c-9763-3a6bfb4c678e",
   "metadata": {},
   "source": [
    "Markdown uses special symbols to mark certain details in the text\n",
    "\n",
    "## hashtag for header\n",
    "\n",
    "<b>bold</b>\n",
    "<ul>\n",
    "    <li>list 1</li>\n",
    "    <li>list 2</li>\n",
    "</ul>"
   ]
  },
  {
   "cell_type": "code",
   "execution_count": 12,
   "id": "498922d5-e9dc-4743-bbdb-156322d3ed33",
   "metadata": {},
   "outputs": [
    {
     "data": {
      "text/plain": [
       "6"
      ]
     },
     "execution_count": 12,
     "metadata": {},
     "output_type": "execute_result"
    }
   ],
   "source": [
    "x = 1 - 2\n",
    "y = 3 - x\n",
    "y\n",
    "5-x"
   ]
  },
  {
   "cell_type": "code",
   "execution_count": 8,
   "id": "fe3860ef-d59e-48df-a0b4-944c93735ec3",
   "metadata": {},
   "outputs": [
    {
     "data": {
      "text/plain": [
       "1"
      ]
     },
     "execution_count": 8,
     "metadata": {},
     "output_type": "execute_result"
    }
   ],
   "source": [
    "3-2"
   ]
  }
 ],
 "metadata": {
  "kernelspec": {
   "display_name": "Python 3 (ipykernel)",
   "language": "python",
   "name": "python3"
  },
  "language_info": {
   "codemirror_mode": {
    "name": "ipython",
    "version": 3
   },
   "file_extension": ".py",
   "mimetype": "text/x-python",
   "name": "python",
   "nbconvert_exporter": "python",
   "pygments_lexer": "ipython3",
   "version": "3.11.7"
  }
 },
 "nbformat": 4,
 "nbformat_minor": 5
}
