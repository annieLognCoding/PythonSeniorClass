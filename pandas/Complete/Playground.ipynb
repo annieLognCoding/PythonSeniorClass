{
 "cells": [
  {
   "cell_type": "code",
   "execution_count": 1,
   "id": "5561d737-98cb-4cf2-a90a-4356f10c7eb4",
   "metadata": {
    "tags": []
   },
   "outputs": [],
   "source": [
    "import pandas as pd"
   ]
  },
  {
   "cell_type": "code",
   "execution_count": null,
   "id": "8d8c6212-832f-4586-8be3-9240eb51f4ed",
   "metadata": {},
   "outputs": [],
   "source": []
  },
  {
   "cell_type": "code",
   "execution_count": null,
   "id": "1f06d037-d04f-463d-9b90-aac4ad841931",
   "metadata": {},
   "outputs": [],
   "source": []
  },
  {
   "cell_type": "code",
   "execution_count": null,
   "id": "4bab3d30-9593-4b65-a831-d3b1b2a340f7",
   "metadata": {},
   "outputs": [],
   "source": []
  },
  {
   "cell_type": "raw",
   "id": "206ab36c-f899-483a-b299-38f7f737e66b",
   "metadata": {},
   "source": [
    "Raw means raw text"
   ]
  },
  {
   "cell_type": "markdown",
   "id": "5f949e4e-9183-407c-9763-3a6bfb4c678e",
   "metadata": {},
   "source": [
    "Designate each cell correctly"
   ]
  }
 ],
 "metadata": {
  "kernelspec": {
   "display_name": "Python 3 (ipykernel)",
   "language": "python",
   "name": "python3"
  },
  "language_info": {
   "codemirror_mode": {
    "name": "ipython",
    "version": 3
   },
   "file_extension": ".py",
   "mimetype": "text/x-python",
   "name": "python",
   "nbconvert_exporter": "python",
   "pygments_lexer": "ipython3",
   "version": "3.11.5"
  }
 },
 "nbformat": 4,
 "nbformat_minor": 5
}
