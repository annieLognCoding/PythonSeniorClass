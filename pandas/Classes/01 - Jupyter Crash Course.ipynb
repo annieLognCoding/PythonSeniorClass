{
 "cells": [
  {
   "cell_type": "markdown",
   "id": "19fa33dc-020e-4254-a9e7-eff51029a974",
   "metadata": {},
   "source": [
    "## Jupyter Lab\n",
    "\n",
    "### 1. Launch Jupyter Lab\n",
    "-  Open Anaconda Navigator\n",
    "-  Choose the **conda environment** we created for the course.\n",
    "-  Click the **Launch** button underneath **Jupyter Lab**.\n",
    "-  Jupyter Lab is a program that runs in your default web browser (like Chrome)\n",
    "-  Jupyter Lab is a server: a continuously listening program that listens to requests and issues responses.\n",
    "\n",
    "### 2. Create, Save, and Close a Jupyter Notebook\n",
    "-  Jupyter Notebooks have a ipynb extension. The extension comes from their former name, iPython Notebooks\n",
    "-  Save a Jupter Notebook with Command + S and Control + S\n",
    "-  To shut down a Notebook, save and close its tab\n",
    "-  Click the **Running Terminals and Kernals** button on the left-hand menu\n",
    "-  Click **Shut Down All** in the Kernals sections or individually target a specific Notebook you\\'d like to choose\n",
    "-  Go to File -> Shut down in the main menu\n",
    "\n",
    "### How does Jupyter Notebook work?\n",
    "-  A Jupyter Notebook consists of **cells**\n",
    "    -  **Cells**: text boxes where we write Python code which we ask Jupyter to execute on command\n",
    "    -  **Kernel**: a computational engine that executes the code contained in a notebook's cells\n",
    "        -  waits for commands from the user interface, processes the code within the cell, and returns the output or results back to the notebook."
   ]
  },
  {
   "cell_type": "markdown",
   "id": "9b956af9-17a5-4b5d-ba28-b4f73df1c4c6",
   "metadata": {},
   "source": [
    "## Intro to Jupyter Notebook\n",
    "-  A Jupyter Notebook is essentially a collection of cells\n",
    "-  Copy-paste functionalities are available under the Edit menu.\n",
    "-  If serious errors (i.e.-frozen-cell) occur, use the **Kernel** option on the menu.\n",
    "    -  **Kernel: Restart & Clear Output** clears everything \n",
    "### Cell Types and Cell Modes\n",
    "-  **Cell types**: Code and Markdown. Select from the dropdown menu in the toolbar.\n",
    "-  **Cell modes**: Edit Mode (green outline) or Command Mode (blue outline).\n",
    "    -  Double-click into a Markdown cell or single-click into a code cell to enter **Edit Mode**.\n",
    "    -  Press the Escape key to go to Command Mode.\n",
    "\n",
    "#### Command mode shortcut\n",
    "-  a: create a cell above the current cell\n",
    "-  b: create a cell below the current cell\n",
    "-  m: make a cell Markdown\n",
    "-  y: make a cell code\n",
    "-  x: cut a cell\n",
    "\n",
    "### Code Cell Execution\n",
    "-  We need to \"execute\" a cell to run the Python code inside of it.\n",
    "-  Press **Shift + Enter** to execute a code cell and move to the next cell.\n",
    "-  Press **Ctrl + Enter** to execute a code cell and stay in the same cell.\n",
    "-  Executing a Markdown cell will render the formatting within it\n",
    "\n",
    "#### Rules / Features of cell execution\n",
    "-  A cell can be executed any number of times\n",
    "-  You can execute cells in any order\n",
    "-  The number in front of the cell signifies the order that the cell was executed\n",
    "-  Multiple operations can take place in a single cell\n",
    "-  The cell will automatically output the last expression\n",
    "-  Any operation not saved to a variable will be thrown outvariable will be thrown out\r\n"
   ]
  },
  {
   "cell_type": "code",
   "execution_count": 5,
   "id": "dfdc189f-aec9-4a65-8974-907654fe9948",
   "metadata": {},
   "outputs": [],
   "source": [
    "x = 6 + 7"
   ]
  },
  {
   "cell_type": "code",
   "execution_count": 6,
   "id": "b341d308-4540-48ce-bf10-93ea9a740869",
   "metadata": {},
   "outputs": [
    {
     "data": {
      "text/plain": [
       "13"
      ]
     },
     "execution_count": 6,
     "metadata": {},
     "output_type": "execute_result"
    }
   ],
   "source": [
    "x"
   ]
  }
 ],
 "metadata": {
  "kernelspec": {
   "display_name": "Python 3 (ipykernel)",
   "language": "python",
   "name": "python3"
  },
  "language_info": {
   "codemirror_mode": {
    "name": "ipython",
    "version": 3
   },
   "file_extension": ".py",
   "mimetype": "text/x-python",
   "name": "python",
   "nbconvert_exporter": "python",
   "pygments_lexer": "ipython3",
   "version": "3.11.7"
  }
 },
 "nbformat": 4,
 "nbformat_minor": 5
}
