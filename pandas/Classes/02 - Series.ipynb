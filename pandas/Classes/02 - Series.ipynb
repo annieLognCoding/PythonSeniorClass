{
 "cells": [
  {
   "cell_type": "markdown",
   "id": "93848304-f368-49d9-9d4c-b56540fb7d95",
   "metadata": {},
   "source": [
    "# Series"
   ]
  },
  {
   "cell_type": "code",
   "execution_count": 3,
   "id": "39500ae7-fb8b-49c0-8a37-11ff7f4fe676",
   "metadata": {},
   "outputs": [],
   "source": [
    "import pandas as pd"
   ]
  },
  {
   "cell_type": "markdown",
   "id": "ef959009-e22e-4bf7-bad2-ff9762b19299",
   "metadata": {},
   "source": [
    "## Create a Series Object from a List\n",
    "-  A pandas Series is a one-dimensional labelled array.\n",
    "-  A Series combines the best features of a list and a dictionary.\n",
    "-  A Series maintains a single collection of ordered values (i.e. a single column of data).\n",
    "    -  We can assign each value an identifier, which does not have to be unique."
   ]
  },
  {
   "cell_type": "code",
   "execution_count": 4,
   "id": "ad054932-a67e-4acd-aece-c1f5eeec7fd9",
   "metadata": {},
   "outputs": [
    {
     "data": {
      "text/plain": [
       "0     Chocolate\n",
       "1       Vanilla\n",
       "2    Strawberry\n",
       "3    Rum Raisin\n",
       "dtype: object"
      ]
     },
     "execution_count": 4,
     "metadata": {},
     "output_type": "execute_result"
    }
   ],
   "source": [
    "ice_cream = [\"Chocolate\", \"Vanilla\", \"Strawberry\", \"Rum Raisin\"]\n",
    "pd.Series(ice_cream)"
   ]
  },
  {
   "cell_type": "code",
   "execution_count": 5,
   "id": "da5467b1-e05c-4283-ac2e-24dbcab8e490",
   "metadata": {},
   "outputs": [
    {
     "data": {
      "text/plain": [
       "0     4\n",
       "1     8\n",
       "2    15\n",
       "3    16\n",
       "4    23\n",
       "5    42\n",
       "dtype: int64"
      ]
     },
     "execution_count": 5,
     "metadata": {},
     "output_type": "execute_result"
    }
   ],
   "source": [
    "lottery_numbers = [4, 8, 15, 16, 23, 42]\n",
    "pd.Series(lottery_numbers)"
   ]
  },
  {
   "cell_type": "code",
   "execution_count": 6,
   "id": "34194505-1904-4773-a603-af2db7a4d898",
   "metadata": {},
   "outputs": [
    {
     "data": {
      "text/plain": [
       "0     True\n",
       "1    False\n",
       "2    False\n",
       "3    False\n",
       "4     True\n",
       "dtype: bool"
      ]
     },
     "execution_count": 6,
     "metadata": {},
     "output_type": "execute_result"
    }
   ],
   "source": [
    "registrations = [True, False, False, False, True]\n",
    "pd.Series(registrations)"
   ]
  },
  {
   "cell_type": "markdown",
   "id": "5cb42a19-080e-4d3a-8c22-50a03053058f",
   "metadata": {},
   "source": [
    "## Create a Series with a Dictionary"
   ]
  },
  {
   "cell_type": "code",
   "execution_count": 7,
   "id": "fc86d8e1-e7b9-439b-b147-9d12851f2172",
   "metadata": {},
   "outputs": [
    {
     "data": {
      "text/plain": [
       "Salmon    Orange\n",
       "Tuna         Red\n",
       "Eel        Brown\n",
       "dtype: object"
      ]
     },
     "execution_count": 7,
     "metadata": {},
     "output_type": "execute_result"
    }
   ],
   "source": [
    "sushi = {\n",
    "    \"Salmon\": \"Orange\",\n",
    "    \"Tuna\": \"Red\",\n",
    "    \"Eel\": \"Brown\"\n",
    "}\n",
    "\n",
    "pd.Series(sushi)"
   ]
  },
  {
   "cell_type": "code",
   "execution_count": 8,
   "id": "09259a61-efe1-428b-a4d2-9d4cba9d34df",
   "metadata": {},
   "outputs": [
    {
     "data": {
      "text/plain": [
       "{'Salmon': 'Orange', 'Tuna': 'Red', 'Eel': 'Brown'}"
      ]
     },
     "execution_count": 8,
     "metadata": {},
     "output_type": "execute_result"
    }
   ],
   "source": [
    "sushi"
   ]
  },
  {
   "cell_type": "markdown",
   "id": "6a72d3d1-b528-403a-bccc-e5a0ad2a10f1",
   "metadata": {},
   "source": [
    "## Intro to Series Methods\r",
    "- The syntax to invoke a method on any object is `object.method()`.\n",
    "- The `sum` method adds together the **Series'** values.\n",
    "- The `product` method multiplies the **Series'** values.\n",
    "- The `mean` method finds the average of the **Series'** values.\n",
    "- The `std` method finds the standard deviation of the **Series'** values.lues."
   ]
  },
  {
   "cell_type": "code",
   "execution_count": null,
   "id": "25c64200-682b-47c6-8d64-7d50ca97631c",
   "metadata": {},
   "outputs": [],
   "source": [
    "prices = pd.Series([2.99, 4.45, 1.36])\n",
    "prices"
   ]
  },
  {
   "cell_type": "code",
   "execution_count": null,
   "id": "15ef58b8-f465-4a8d-8eca-d1dd2bea4cab",
   "metadata": {},
   "outputs": [],
   "source": [
    "prices.sum()"
   ]
  },
  {
   "cell_type": "code",
   "execution_count": null,
   "id": "0c5494e4-5771-457e-a921-1f1721526569",
   "metadata": {},
   "outputs": [],
   "source": [
    "prices.product()"
   ]
  },
  {
   "cell_type": "code",
   "execution_count": null,
   "id": "4b02ba31-e854-44c2-86c8-8842274c5360",
   "metadata": {},
   "outputs": [],
   "source": [
    "prices.mean()"
   ]
  },
  {
   "cell_type": "code",
   "execution_count": null,
   "id": "c645ff30-073c-476e-b5ec-495819312fa4",
   "metadata": {},
   "outputs": [],
   "source": [
    "prices.std()"
   ]
  },
  {
   "cell_type": "code",
   "execution_count": null,
   "id": "9b682bb4-f1ec-4591-b268-503eb8fa3248",
   "metadata": {},
   "outputs": [],
   "source": []
  }
 ],
 "metadata": {
  "kernelspec": {
   "display_name": "Python 3 (ipykernel)",
   "language": "python",
   "name": "python3"
  },
  "language_info": {
   "codemirror_mode": {
    "name": "ipython",
    "version": 3
   },
   "file_extension": ".py",
   "mimetype": "text/x-python",
   "name": "python",
   "nbconvert_exporter": "python",
   "pygments_lexer": "ipython3",
   "version": "3.11.7"
  }
 },
 "nbformat": 4,
 "nbformat_minor": 5
}
